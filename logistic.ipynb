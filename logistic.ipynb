{
 "cells": [
  {
   "cell_type": "code",
   "execution_count": 3,
   "metadata": {},
   "outputs": [],
   "source": [
    "import pandas as pd\n",
    "from sklearn import linear_model,metrics\n",
    "from scipy.stats import boxcox\n",
    "import matplotlib.pyplot as plt\n",
    "import japanize_matplotlib\n",
    "import seaborn as sns\n",
    "\n",
    "sns.set()\n",
    "%matplotlib inline"
   ]
  },
  {
   "cell_type": "code",
   "execution_count": 11,
   "metadata": {},
   "outputs": [],
   "source": [
    "train_df = pd.read_csv(\"train_prepared.csv\")\n",
    "test_df = pd.read_csv(\"test_prepared.csv\")"
   ]
  },
  {
   "cell_type": "markdown",
   "metadata": {},
   "source": [
    "### Logisticやります\n",
    "やりかたよくわかってない\n",
    "  \n",
    "- `train loop`を決める(?)"
   ]
  },
  {
   "cell_type": "code",
   "execution_count": 23,
   "metadata": {},
   "outputs": [],
   "source": [
    "def train(df):\n",
    "    df[\"preds\"] = pd.NA\n",
    "\n",
    "    drop = [\"Transported\",\"preds\",\"kfold\"]\n",
    "\n",
    "    for fold in range(5):\n",
    "        train = df[df[\"kfold\"] != fold]\n",
    "\n",
    "        y_train = train[\"Transported\"].values\n",
    "        x_train = train.drop(drop,axis=1).values\n",
    "\n",
    "        val = df[df[\"kfold\"] == fold]\n",
    "\n",
    "        y_val = val[\"Transported\"].values\n",
    "        x_val = val.drop(drop,axis=1).values\n",
    "\n",
    "        model = linear_model.LogisticRegression(max_iter=1000)\n",
    "        model.fit(x_train,y_train)\n",
    "\n",
    "        preds = model.predict(x_val)\n",
    "        df.loc[val.index,\"preds\"] = preds\n",
    "\n",
    "        acc = metrics.accuracy_score(y_val,preds)\n",
    "        print(f\"Fold{fold+1}-Accuracy = {acc:.4f}\")\n",
    "    \n",
    "    df[drop] = df[drop].astype(int)\n",
    "\n",
    "    # 全体の正解率計算\n",
    "    acc = metrics.accuracy_score(df[\"Transported\"].values,df[\"preds\"].values)\n",
    "    print(f\"Overall accuracy:{acc:.4f}\")\n",
    "\n",
    "    return df"
   ]
  },
  {
   "cell_type": "code",
   "execution_count": 24,
   "metadata": {},
   "outputs": [
    {
     "name": "stdout",
     "output_type": "stream",
     "text": [
      "Fold1-Accuracy = 0.7872\n",
      "Fold2-Accuracy = 0.7867\n",
      "Fold3-Accuracy = 0.7936\n",
      "Fold4-Accuracy = 0.7975\n",
      "Fold5-Accuracy = 0.7969\n",
      "Overall accuracy:0.7924\n"
     ]
    }
   ],
   "source": [
    "# CabinNumとGrpupId以外\n",
    "train_df_exp1 = train(train_df.copy())"
   ]
  },
  {
   "cell_type": "markdown",
   "metadata": {},
   "source": [
    "### `train`関数\n",
    "1. `Transported`,`preds`,`kfold`は学習に使わないよ！\n",
    "\n",
    "``` python\n",
    "for fold in range(5)\n",
    "```\n",
    "\n",
    "2. kfoldの回数である5回回して学習させるよ！\n",
    "\n",
    "``` python\n",
    "train = df[df[\"kfold\"] != fold]\n",
    "```\n",
    "\n",
    "- 各イテレートにおうじてtrainデータ決める\n",
    "- `y_train`は到着できたかどうか\n",
    "- `x_train`は各データ\n",
    "- `y_val`,`x_val`も一緒\n",
    "\n",
    "3. modelはロジスティック回帰を`max_iter`1000にするよ！\n",
    "4. 学習！\n",
    "5. 予測！\n",
    "6. dfに代入！！\n",
    "7. 正解率計算！\n",
    "8. owari"
   ]
  },
  {
   "cell_type": "code",
   "execution_count": 25,
   "metadata": {},
   "outputs": [],
   "source": [
    "#1.0が正解，0.0がミスとして見てみたい\n",
    "wrong = train_df_exp1[train_df_exp1[\"Transported\"] != train_df_exp1[\"preds\"]]"
   ]
  },
  {
   "cell_type": "code",
   "execution_count": 28,
   "metadata": {},
   "outputs": [
    {
     "data": {
      "text/plain": [
       "1.0    1101\n",
       "0.0     704\n",
       "Name: GroupSize_1, dtype: int64"
      ]
     },
     "execution_count": 28,
     "metadata": {},
     "output_type": "execute_result"
    }
   ],
   "source": [
    "wrong[\"GroupSize_1\"].value_counts()"
   ]
  },
  {
   "cell_type": "markdown",
   "metadata": {},
   "source": []
  }
 ],
 "metadata": {
  "kernelspec": {
   "display_name": "Python 3.10.4 ('kaggle_conda')",
   "language": "python",
   "name": "python3"
  },
  "language_info": {
   "codemirror_mode": {
    "name": "ipython",
    "version": 3
   },
   "file_extension": ".py",
   "mimetype": "text/x-python",
   "name": "python",
   "nbconvert_exporter": "python",
   "pygments_lexer": "ipython3",
   "version": "3.10.4"
  },
  "orig_nbformat": 4,
  "vscode": {
   "interpreter": {
    "hash": "7c5fd24fceab090f2c5c71fd4495c8eac52172cb8980890620cc96ba7288a84c"
   }
  }
 },
 "nbformat": 4,
 "nbformat_minor": 2
}
